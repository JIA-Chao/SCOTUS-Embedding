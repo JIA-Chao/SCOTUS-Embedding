{
 "cells": [
  {
   "cell_type": "code",
   "execution_count": 1,
   "metadata": {},
   "outputs": [
    {
     "name": "stderr",
     "output_type": "stream",
     "text": [
      "Using TensorFlow backend.\n"
     ]
    }
   ],
   "source": [
    "from __future__ import print_function\n",
    "\n",
    "import argparse\n",
    "import os\n",
    "import sys\n",
    "import numpy as np\n",
    "from textacy.datasets.supreme_court import SupremeCourt\n",
    "from keras.preprocessing.text import Tokenizer\n",
    "from keras.preprocessing.sequence import pad_sequences\n",
    "from keras.utils import to_categorical\n",
    "from keras.layers import Dense, Input, GlobalMaxPooling1D\n",
    "from keras.layers import Conv1D, MaxPooling1D, Embedding\n",
    "from keras.layers import Dropout\n",
    "from keras.models import Model, Sequential\n",
    "from keras.callbacks import ModelCheckpoint, EarlyStopping\n",
    "from sklearn.model_selection import train_test_split\n",
    "from tensorflow.python.lib.io import file_io\n",
    "from time import gmtime, strftime\n",
    "import pickle"
   ]
  },
  {
   "cell_type": "code",
   "execution_count": 5,
   "metadata": {},
   "outputs": [
    {
     "name": "stdout",
     "output_type": "stream",
     "text": [
      "Device mapping:\n",
      "/job:localhost/replica:0/task:0/device:XLA_CPU:0 -> device: XLA_CPU device\n",
      "/job:localhost/replica:0/task:0/device:XLA_GPU:0 -> device: XLA_GPU device\n",
      "\n"
     ]
    }
   ],
   "source": [
    "import tensorflow as tf\n",
    "import keras\n",
    "# tf.compat.v1.Session()\n",
    "# sess = tf.Session(config=tf.ConfigProto(log_device_placement=True))\n",
    "sess = tf.Session(config=tf.ConfigProto(device_count = {'GPU': 0}, log_device_placement=True)) \n",
    "# sess = tf.Session(config=config) \n",
    "keras.backend.set_session(sess)"
   ]
  },
  {
   "cell_type": "code",
   "execution_count": 7,
   "metadata": {},
   "outputs": [],
   "source": [
    "model_checkPoint_path = '../ModelCheckpoint'\n",
    "VALIDATION_SPLIT = 0.1\n",
    "BATCH_SIZE = 32\n",
    "MAX_NB_WORDS = 170000\n",
    "EMBEDDING_DIM = 300"
   ]
  },
  {
   "cell_type": "code",
   "execution_count": 4,
   "metadata": {
    "scrolled": true
   },
   "outputs": [
    {
     "name": "stdout",
     "output_type": "stream",
     "text": [
      "Indexing word vectors ...\n",
      "Found 3000000 word vectors.\n"
     ]
    }
   ],
   "source": [
    "# load pre-trained embedding\n",
    "print('Indexing word vectors ...')\n",
    "embeddings_index = {}\n",
    "f = file_io.FileIO('../data/GoogleNews-vectors-negative300.txt', mode='r')\n",
    "for line in f:\n",
    "    values = line.split()\n",
    "    word = values[0]\n",
    "    coefs = np.asarray(values[1:], dtype='float32')\n",
    "    embeddings_index[word] = coefs\n",
    "f.close()\n",
    "print('Found %s word vectors.' % len(embeddings_index))\n"
   ]
  },
  {
   "cell_type": "code",
   "execution_count": 5,
   "metadata": {},
   "outputs": [
    {
     "name": "stdout",
     "output_type": "stream",
     "text": [
      "Processing text dataset\n",
      "{'name': 'supreme_court', 'site_url': 'http://caselaw.findlaw.com/court/us-supreme-court', 'description': 'Collection of ~8.4k decisions issued by the U.S. Supreme Court between November 1946 and June 2016.'}\n",
      "Found 8419 texts.\n",
      "Found 15 labels.\n"
     ]
    }
   ],
   "source": [
    "print('Processing text dataset')\n",
    "\n",
    "sc = SupremeCourt()\n",
    "print(sc.info)\n",
    "\n",
    "texts = []  # list of text samples\n",
    "labels_index = {}  # dictionary mapping label name to numeric id\n",
    "labels = []  # list of label ids\n",
    "\n",
    "issue_codes = list(sc.issue_area_codes.keys()) # 15 labels\n",
    "issue_codes.sort()\n",
    "issue_codes = [str(ic) for ic in issue_codes]\n",
    "\n",
    "labels_index = dict(zip(issue_codes, np.arange(len(issue_codes))))\n",
    "\n",
    "for record in sc.records():\n",
    "    if record[1]['issue'] == None: # some cases have None as an issue\n",
    "        labels.append(labels_index['-1'])\n",
    "    else:\n",
    "        labels.append(labels_index[record[1]['issue'][:-4]])\n",
    "    texts.append(record[0])\n",
    "\n",
    "print('Found %s texts.' % len(texts))\n",
    "print('Found %s labels.' % len(labels_index))"
   ]
  },
  {
   "cell_type": "code",
   "execution_count": 8,
   "metadata": {},
   "outputs": [
    {
     "name": "stdout",
     "output_type": "stream",
     "text": [
      "Found 173087 unique tokens.\n",
      "Shape of data tensor: (8419, 90018)\n",
      "Shape of label tensor: (8419, 15)\n"
     ]
    }
   ],
   "source": [
    "# vectorize the text samples into a 2D integer tensor\n",
    "tokenizer = Tokenizer(num_words=MAX_NB_WORDS, filters='!\"#$%&()*+,-./:;<=>?@[\\\\]^_`{|}~\\t\\n',)\n",
    "tokenizer.fit_on_texts(texts)\n",
    "sequences = tokenizer.texts_to_sequences(texts)\n",
    "\n",
    "word_index = tokenizer.word_index\n",
    "print('Found %s unique tokens.' % len(word_index))\n",
    "\n",
    "# with tf.device('/gpu:0'):\n",
    "data = pad_sequences(sequences)\n",
    "\n",
    "MAX_SEQUENCE_LENGTH = data.shape[1]\n",
    "\n",
    "labels = to_categorical(np.asarray(labels))\n",
    "    \n",
    "print('Shape of data tensor:', data.shape)\n",
    "print('Shape of label tensor:', labels.shape)"
   ]
  },
  {
   "cell_type": "code",
   "execution_count": 9,
   "metadata": {},
   "outputs": [],
   "source": [
    "# prepare embedding matrix\n",
    "num_words = min(MAX_NB_WORDS, len(word_index))\n",
    "embedding_matrix = np.zeros((num_words, EMBEDDING_DIM))\n",
    "for word, i in word_index.items():\n",
    "    if i >= MAX_NB_WORDS:\n",
    "        continue\n",
    "    embedding_vector = embeddings_index.get(word)\n",
    "    if embedding_vector is not None:\n",
    "        # words not found in embedding index will be all-zeros.\n",
    "        embedding_matrix[i] = embedding_vector"
   ]
  },
  {
   "cell_type": "code",
   "execution_count": 12,
   "metadata": {},
   "outputs": [],
   "source": [
    "def train_model():\n",
    "\n",
    "    if not os.path.exists(model_checkPoint_path):\n",
    "        os.makedirs(model_checkPoint_path)\n",
    "\n",
    "#     MAX_SEQUENCE_LENGTH = 90018\n",
    "\n",
    "    # split the data into a training set and a validation set\n",
    "#     with tf.device('/device:GPU:0'):\n",
    "    x_train, x_test, y_train, y_test = train_test_split(data, labels, test_size=VALIDATION_SPLIT, random_state=42)\n",
    "    x_train, x_val, y_train, y_val = train_test_split(x_train, y_train, test_size=VALIDATION_SPLIT, random_state=42)\n",
    "    print(x_train)\n",
    "\n",
    "    def generator():\n",
    "        while True:\n",
    "            indices = list(range(len(x_train)))\n",
    "            imax = len(indices)//BATCH_SIZE\n",
    "            for i in range(imax):\n",
    "                list_IDs_temp = indices[i*BATCH_SIZE:(i+1)*BATCH_SIZE]\n",
    "                yield x_train[list_IDs_temp], y_train[list_IDs_temp]\n",
    "\n",
    "    def test_generator():\n",
    "        while True:\n",
    "            indices = list(range(len(x_test)))\n",
    "            imax = len(indices)//BATCH_SIZE\n",
    "            for i in range(imax):\n",
    "                list_IDs_temp = indices[i*BATCH_SIZE:(i+1)*BATCH_SIZE]\n",
    "                yield x_test[list_IDs_temp], y_test[list_IDs_temp]\n",
    "\n",
    "    def val_generator():\n",
    "        while True:\n",
    "            indices = list(range(len(x_val)))\n",
    "            imax = len(indices)//BATCH_SIZE\n",
    "            for i in range(imax):\n",
    "                list_IDs_temp = indices[i*BATCH_SIZE:(i+1)*BATCH_SIZE]\n",
    "                yield x_val[list_IDs_temp], y_val[list_IDs_temp]\n",
    "\n",
    "\n",
    "    print('Training model.')\n",
    "\n",
    "    model = Sequential()\n",
    "    model.add(\n",
    "      Embedding(num_words,\n",
    "                EMBEDDING_DIM,\n",
    "                weights=[embedding_matrix],\n",
    "                input_length=MAX_SEQUENCE_LENGTH,\n",
    "                trainable=False)\n",
    "    )\n",
    "    model.add(Dropout(0.25))\n",
    "    model.add(Conv1D(128, 5, activation='relu'))\n",
    "    model.add(MaxPooling1D(5))\n",
    "    model.add(Dropout(0.25))\n",
    "    model.add(Conv1D(128, 5, activation='relu'))\n",
    "    model.add(MaxPooling1D(5))\n",
    "    model.add(Dropout(0.25))\n",
    "    model.add(Conv1D(128, 5, activation='relu'))\n",
    "    model.add(GlobalMaxPooling1D())\n",
    "    model.add(Dropout(0.5))\n",
    "    model.add(Dense(128, activation='relu'))\n",
    "    model.add(Dropout(0.5))\n",
    "    model.add(Dense(len(labels_index), activation='softmax'))\n",
    "\n",
    "    model.compile(loss='categorical_crossentropy',\n",
    "                  optimizer='adam',\n",
    "                  metrics=['acc'])\n",
    "    \n",
    "    # os.path.basename(__file__)[:-3]\n",
    "    checkpointer = ModelCheckpoint(filepath = model_checkPoint_path + 'cnn15' +\n",
    "        \"-{epoch:02d}-{val_acc:.2f}.hdf5\",\n",
    "                                   monitor='val_acc',\n",
    "                                   verbose=2,\n",
    "                                   save_best_only=True,\n",
    "                                   mode='max')\n",
    "\n",
    "    earlystopper = EarlyStopping(monitor='val_loss',\n",
    "                             min_delta=0,\n",
    "                             patience=0,\n",
    "                             verbose=2,\n",
    "                             mode='auto')\n",
    "\n",
    "    model.summary()\n",
    "\n",
    "    model.fit_generator(generator=generator(),\n",
    "                        steps_per_epoch = len(x_train)//BATCH_SIZE,\n",
    "                        epochs=50,\n",
    "                        verbose=1,\n",
    "                        validation_data=test_generator(),\n",
    "                        validation_steps=len(x_test)//BATCH_SIZE,\n",
    "                        callbacks=[checkpointer, earlystopper],\n",
    "                        shuffle=True)\n",
    "    \n",
    "#     model.fit(x_train, y_train,\n",
    "#                 steps_per_epoch = len(x_train)//BATCH_SIZE,\n",
    "#                 epochs=50,\n",
    "#                 verbose=1,\n",
    "#                 validation_data=(x_val, y_val),\n",
    "#                 validation_steps=len(x_test)//BATCH_SIZE,\n",
    "#                 callbacks=[checkpointer, earlystopper],\n",
    "#                 shuffle=True)\n",
    "    \n",
    "    score = model.evaluate_generator(val_generator(),\n",
    "                                     steps=len(x_val)//BATCH_SIZE)\n",
    "\n",
    "    print('Test loss:', score[0])\n",
    "    print('Test accuracy:', score[1])\n",
    "\n",
    "    # Save Keras ModelCheckpoints locally\n",
    "    model.save('model.hdf5')\n"
   ]
  },
  {
   "cell_type": "code",
   "execution_count": null,
   "metadata": {},
   "outputs": [
    {
     "name": "stdout",
     "output_type": "stream",
     "text": [
      "[[    0     0     0 ...  1364     3  2830]\n",
      " [    0     0     0 ...  1362  2324  1214]\n",
      " [    0     0     0 ...   374     7  2969]\n",
      " ...\n",
      " [    0     0     0 ...    14 13615   470]\n",
      " [    0     0     0 ...    63  2435     4]\n",
      " [    0     0     0 ...     8   297   186]]\n",
      "Training model.\n",
      "Model: \"sequential_2\"\n",
      "_________________________________________________________________\n",
      "Layer (type)                 Output Shape              Param #   \n",
      "=================================================================\n",
      "embedding_2 (Embedding)      (None, 90018, 300)        51000000  \n",
      "_________________________________________________________________\n",
      "dropout_6 (Dropout)          (None, 90018, 300)        0         \n",
      "_________________________________________________________________\n",
      "conv1d_4 (Conv1D)            (None, 90014, 128)        192128    \n",
      "_________________________________________________________________\n",
      "max_pooling1d_3 (MaxPooling1 (None, 18002, 128)        0         \n",
      "_________________________________________________________________\n",
      "dropout_7 (Dropout)          (None, 18002, 128)        0         \n",
      "_________________________________________________________________\n",
      "conv1d_5 (Conv1D)            (None, 17998, 128)        82048     \n",
      "_________________________________________________________________\n",
      "max_pooling1d_4 (MaxPooling1 (None, 3599, 128)         0         \n",
      "_________________________________________________________________\n",
      "dropout_8 (Dropout)          (None, 3599, 128)         0         \n",
      "_________________________________________________________________\n",
      "conv1d_6 (Conv1D)            (None, 3595, 128)         82048     \n",
      "_________________________________________________________________\n",
      "global_max_pooling1d_2 (Glob (None, 128)               0         \n",
      "_________________________________________________________________\n",
      "dropout_9 (Dropout)          (None, 128)               0         \n",
      "_________________________________________________________________\n",
      "dense_3 (Dense)              (None, 128)               16512     \n",
      "_________________________________________________________________\n",
      "dropout_10 (Dropout)         (None, 128)               0         \n",
      "_________________________________________________________________\n",
      "dense_4 (Dense)              (None, 15)                1935      \n",
      "=================================================================\n",
      "Total params: 51,374,671\n",
      "Trainable params: 374,671\n",
      "Non-trainable params: 51,000,000\n",
      "_________________________________________________________________\n",
      "Epoch 1/50\n",
      " 80/213 [==========>...................] - ETA: 26:48 - loss: 2.3253 - acc: 0.2023"
     ]
    }
   ],
   "source": [
    "# if __name__ == '__main__':\n",
    "train_model()"
   ]
  },
  {
   "cell_type": "code",
   "execution_count": null,
   "metadata": {},
   "outputs": [],
   "source": []
  },
  {
   "cell_type": "code",
   "execution_count": null,
   "metadata": {},
   "outputs": [],
   "source": []
  },
  {
   "cell_type": "code",
   "execution_count": null,
   "metadata": {},
   "outputs": [],
   "source": []
  }
 ],
 "metadata": {
  "kernelspec": {
   "display_name": "Python 3",
   "language": "python",
   "name": "python3"
  },
  "language_info": {
   "codemirror_mode": {
    "name": "ipython",
    "version": 3
   },
   "file_extension": ".py",
   "mimetype": "text/x-python",
   "name": "python",
   "nbconvert_exporter": "python",
   "pygments_lexer": "ipython3",
   "version": "3.6.9"
  }
 },
 "nbformat": 4,
 "nbformat_minor": 2
}
