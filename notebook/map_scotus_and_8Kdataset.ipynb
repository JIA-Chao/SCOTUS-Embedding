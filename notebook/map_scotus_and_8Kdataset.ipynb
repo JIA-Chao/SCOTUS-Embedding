{
 "cells": [
  {
   "cell_type": "code",
   "execution_count": 7,
   "metadata": {},
   "outputs": [],
   "source": [
    "import os\n",
    "from difflib import SequenceMatcher"
   ]
  },
  {
   "cell_type": "code",
   "execution_count": null,
   "metadata": {},
   "outputs": [],
   "source": [
    "# build a dictionary that record the most similar document in scotus dataset, and the score\n",
    "\n"
   ]
  },
  {
   "cell_type": "code",
   "execution_count": 8,
   "metadata": {},
   "outputs": [
    {
     "name": "stdout",
     "output_type": "stream",
     "text": [
      "length of files_all_format:  1021624\n",
      "0.0003162388657566015\n",
      "9.511467262718615e-05\n",
      "0.0001466777489854789\n",
      "0.017316017316017316\n",
      "0.0005035246727089627\n",
      "0.01762114537444934\n",
      "0.0014895729890764648\n",
      "0.009195402298850575\n",
      "0.00016133586092848787\n",
      "0.0007016723190270144\n"
     ]
    }
   ],
   "source": [
    "# go through scotus dataset\n",
    "scotus_path = '/misc/grice1/yijun/scotus/'\n",
    "files_all_format = os.listdir(scotus_path)\n",
    "print('length of files_all_format: ', len(files_all_format))\n",
    "# print(files_all_format[:10])\n",
    "\n",
    "count = 0\n",
    "for file in files_all_format:\n",
    "    if file.split('.')[-1] != 'txt':\n",
    "        continue\n",
    "    if count == 10:\n",
    "        break\n",
    "    \n",
    "    # read the scotus file\n",
    "    with open(scotus_path + file, 'r') as f:\n",
    "        scotus_text = f.read()\n",
    "    \n",
    "    s = SequenceMatcher(None, scotus_text, \"bcde\")\n",
    "    score_temp = s.ratio()\n",
    "    print(score_temp)\n",
    "    \n",
    "    \n",
    "    count += 1"
   ]
  },
  {
   "cell_type": "code",
   "execution_count": null,
   "metadata": {},
   "outputs": [],
   "source": []
  },
  {
   "cell_type": "code",
   "execution_count": null,
   "metadata": {},
   "outputs": [],
   "source": []
  },
  {
   "cell_type": "code",
   "execution_count": null,
   "metadata": {},
   "outputs": [],
   "source": []
  }
 ],
 "metadata": {
  "kernelspec": {
   "display_name": "Python 3",
   "language": "python",
   "name": "python3"
  },
  "language_info": {
   "codemirror_mode": {
    "name": "ipython",
    "version": 3
   },
   "file_extension": ".py",
   "mimetype": "text/x-python",
   "name": "python",
   "nbconvert_exporter": "python",
   "pygments_lexer": "ipython3",
   "version": "3.6.9"
  }
 },
 "nbformat": 4,
 "nbformat_minor": 2
}
